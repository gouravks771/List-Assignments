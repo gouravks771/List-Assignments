{
 "cells": [
  {
   "cell_type": "code",
   "execution_count": 7,
   "metadata": {},
   "outputs": [
    {
     "name": "stdout",
     "output_type": "stream",
     "text": [
      "[2, 4, 6, 8, 10, 12, 14, 16, 18, 20]\n"
     ]
    }
   ],
   "source": [
    "list1 = [x for x in range(1,21,1) if(x%2 == 0)]\n",
    "print(list1)"
   ]
  },
  {
   "cell_type": "code",
   "execution_count": 16,
   "metadata": {},
   "outputs": [
    {
     "name": "stdout",
     "output_type": "stream",
     "text": [
      "[13, 65, 91]\n"
     ]
    }
   ],
   "source": [
    "numbers = [13, 5, 9, 25, 65, 71, 81, 91]\n",
    "numbers2 = [x for x in numbers if(x % 13 == 0)]\n",
    "print(numbers2)"
   ]
  },
  {
   "cell_type": "code",
   "execution_count": 18,
   "metadata": {},
   "outputs": [
    {
     "name": "stdout",
     "output_type": "stream",
     "text": [
      "['121', 'naman', 'LOL', '66c66', 'noon']\n"
     ]
    }
   ],
   "source": [
    "palindrome_word_list = ['121', 'naman', '551', 'loop', 'LOL', 'Madam', '66c66', 'SOON', 'noon']\n",
    "palindromes = [x for x in palindrome_word_list if(x[::-1] == x)]\n",
    "print(palindromes)"
   ]
  },
  {
   "cell_type": "code",
   "execution_count": 20,
   "metadata": {},
   "outputs": [
    {
     "name": "stdout",
     "output_type": "stream",
     "text": [
      "Enter number : 9\n",
      "Square root of  9  is  3.0\n"
     ]
    }
   ],
   "source": [
    "import math\n",
    "x = int(input(\"Enter number : \"))\n",
    "sqrt = math.sqrt(x)\n",
    "print(\"Square root of \",x,\" is \",sqrt)"
   ]
  },
  {
   "cell_type": "code",
   "execution_count": null,
   "metadata": {},
   "outputs": [],
   "source": []
  }
 ],
 "metadata": {
  "kernelspec": {
   "display_name": "Python 3",
   "language": "python",
   "name": "python3"
  },
  "language_info": {
   "codemirror_mode": {
    "name": "ipython",
    "version": 3
   },
   "file_extension": ".py",
   "mimetype": "text/x-python",
   "name": "python",
   "nbconvert_exporter": "python",
   "pygments_lexer": "ipython3",
   "version": "3.8.5"
  }
 },
 "nbformat": 4,
 "nbformat_minor": 4
}
